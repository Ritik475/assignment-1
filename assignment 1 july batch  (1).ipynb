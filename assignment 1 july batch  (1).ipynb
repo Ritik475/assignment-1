{
 "cells": [
  {
   "cell_type": "markdown",
   "id": "8fc7e79f-29e5-43da-9679-4e4d993f4ef0",
   "metadata": {},
   "source": [
    "# Question1:- Explain key features of python that make it popular choice of programming ?"
   ]
  },
  {
   "cell_type": "markdown",
   "id": "e5469011-64b8-435e-9db6-3f9784c5c690",
   "metadata": {
    "tags": []
   },
   "source": [
    "\n",
    "  Answer:- Key features of python that make it popular choice of programming:\n",
    "  1. Python is free to use and distribiute and is supported by community.\n",
    "  2. Python interpreter is avaiable for every major platform.\n",
    "  3. Python programs run unchanged on most platforms.\n",
    "  4. Python runs on every major platforms currently in use.\n",
    "  5. Vast collection of third party libraies.\n",
    " "
   ]
  },
  {
   "cell_type": "code",
   "execution_count": null,
   "id": "69aa75f1-c307-4c9a-8fe7-68e94bd319bc",
   "metadata": {},
   "outputs": [],
   "source": []
  },
  {
   "cell_type": "markdown",
   "id": "2ded675b-5ff4-4144-b048-ebe44bd894b9",
   "metadata": {},
   "source": [
    " # Question2:- Describe the role of predefined keyword and provide example of how they are used in python."
   ]
  },
  {
   "cell_type": "code",
   "execution_count": null,
   "id": "23ea8972-e5cd-48db-a3ba-27a4b1d52bf4",
   "metadata": {},
   "outputs": [],
   "source": [
    "\n",
    "#  Answer. In Python, predefined keywords are reserved words that have special meanings and cannot be \n",
    "#            used as variable names, function names, or any other identifiers.\n",
    "  \n",
    "#     Here the some example of predefined keywords:\n",
    "   \n",
    "#   False      await      else       import     pass\n",
    "#   None       break      except     in         raise\n",
    "#   True       class      finally    is         return\n",
    "#   and        continue   for        lambda     try\n",
    "#   as         def        from       nonlocal   while\n",
    "#   assert     del        global     not        with\n",
    "#   async      elif       if         or         yield\n",
    "\n"
   ]
  },
  {
   "cell_type": "code",
   "execution_count": 112,
   "id": "c9b0715f-f2e2-40e7-998f-22bc19d4bb8a",
   "metadata": {},
   "outputs": [
    {
     "name": "stdout",
     "output_type": "stream",
     "text": [
      "\n",
      "Here is a list of the Python keywords.  Enter any keyword to get more help.\n",
      "\n",
      "False               class               from                or\n",
      "None                continue            global              pass\n",
      "True                def                 if                  raise\n",
      "and                 del                 import              return\n",
      "as                  elif                in                  try\n",
      "assert              else                is                  while\n",
      "async               except              lambda              with\n",
      "await               finally             nonlocal            yield\n",
      "break               for                 not                 \n",
      "\n"
     ]
    }
   ],
   "source": [
    "help('keywords')"
   ]
  },
  {
   "cell_type": "code",
   "execution_count": 3,
   "id": "d3001477-820c-46e1-b837-a8276243405e",
   "metadata": {},
   "outputs": [
    {
     "name": "stdout",
     "output_type": "stream",
     "text": [
      "1\n",
      "2\n",
      "ajay\n",
      "ritik\n"
     ]
    }
   ],
   "source": [
    "l=[1,2,\"RAJ\",\"RITIK\"]\n",
    "for i in l:\n",
    "    print(i)"
   ]
  },
  {
   "cell_type": "code",
   "execution_count": 5,
   "id": "11b3a127-bbfb-4394-be0a-090aea57d0c7",
   "metadata": {},
   "outputs": [
    {
     "name": "stdin",
     "output_type": "stream",
     "text": [
      "enter a no 70\n"
     ]
    },
    {
     "name": "stdout",
     "output_type": "stream",
     "text": [
      "grade C\n"
     ]
    }
   ],
   "source": [
    "score = int(input(\"enter a no\"))\n",
    "if score >=90:\n",
    "    print(\"grade A\")\n",
    "elif (80<=score<90):\n",
    "    print(\"grade B\")\n",
    "elif (70<=score<80):\n",
    "    print(\"grade C\")\n",
    "else:\n",
    "    print(\"grade D\")"
   ]
  },
  {
   "cell_type": "code",
   "execution_count": null,
   "id": "cfac8357-fb2f-4c86-bdf4-8f191405ff94",
   "metadata": {},
   "outputs": [],
   "source": []
  },
  {
   "cell_type": "code",
   "execution_count": null,
   "id": "f988ff5c-67a7-4c15-972e-6fdcaae36aa6",
   "metadata": {},
   "outputs": [],
   "source": []
  },
  {
   "cell_type": "code",
   "execution_count": null,
   "id": "eeafa7f0-48ee-46b8-951b-a77882f2e7d3",
   "metadata": {},
   "outputs": [],
   "source": []
  },
  {
   "cell_type": "markdown",
   "id": "eabbbf66-441c-4cff-8d11-477bdcadea65",
   "metadata": {},
   "source": [
    " # Question 3 Compare and contrast of mutable and immutable objects in python with example?"
   ]
  },
  {
   "cell_type": "markdown",
   "id": "5824c137-a5a2-4301-aa55-7f755c53ede4",
   "metadata": {
    "tags": []
   },
   "source": [
    " Answer. Mutable:- Mutable objects are those objects whose values can be change.\n",
    "  Example:- list, set, dictionary."
   ]
  },
  {
   "cell_type": "code",
   "execution_count": 17,
   "id": "66582e26-7357-45e7-b852-2ef0a8af3ae8",
   "metadata": {},
   "outputs": [
    {
     "data": {
      "text/plain": [
       "[1, 2, 3, 'TRUE']"
      ]
     },
     "execution_count": 17,
     "metadata": {},
     "output_type": "execute_result"
    }
   ],
   "source": [
    "li= [1, 2, 3 ,\"TRUE\"]\n",
    "li"
   ]
  },
  {
   "cell_type": "code",
   "execution_count": 14,
   "id": "852b2891-9e84-4f47-a5a1-a63b130733d1",
   "metadata": {},
   "outputs": [
    {
     "data": {
      "text/plain": [
       "[25, 2, 50, 4]"
      ]
     },
     "execution_count": 14,
     "metadata": {},
     "output_type": "execute_result"
    }
   ],
   "source": [
    "li[0]= 25\n",
    "li[2]= 50\n",
    "li"
   ]
  },
  {
   "cell_type": "markdown",
   "id": "fc403452-6e32-4139-b6ba-04a64665b93f",
   "metadata": {},
   "source": [
    " Immutable:- immutable objects are those objects whose value can not be changed\n",
    " Example:- tupple, string"
   ]
  },
  {
   "cell_type": "code",
   "execution_count": 38,
   "id": "cfa418a9-bf51-4609-91b9-fb63c28dee79",
   "metadata": {},
   "outputs": [
    {
     "data": {
      "text/plain": [
       "'PWSKILL'"
      ]
     },
     "execution_count": 38,
     "metadata": {},
     "output_type": "execute_result"
    }
   ],
   "source": [
    "li= \"PWSKILL\"\n",
    "li"
   ]
  },
  {
   "cell_type": "code",
   "execution_count": 35,
   "id": "d4f20af2-12ba-42d6-ae59-59030745328b",
   "metadata": {},
   "outputs": [
    {
     "data": {
      "text/plain": [
       "1"
      ]
     },
     "execution_count": 35,
     "metadata": {},
     "output_type": "execute_result"
    }
   ],
   "source": [
    "li[0]=0"
   ]
  },
  {
   "cell_type": "code",
   "execution_count": 39,
   "id": "c371761b-d54e-4b41-b1a6-198af18fce33",
   "metadata": {},
   "outputs": [
    {
     "ename": "TypeError",
     "evalue": "'str' object does not support item assignment",
     "output_type": "error",
     "traceback": [
      "\u001b[0;31m---------------------------------------------------------------------------\u001b[0m",
      "\u001b[0;31mTypeError\u001b[0m                                 Traceback (most recent call last)",
      "Cell \u001b[0;32mIn[39], line 1\u001b[0m\n\u001b[0;32m----> 1\u001b[0m \u001b[43mli\u001b[49m\u001b[43m[\u001b[49m\u001b[38;5;241;43m1\u001b[39;49m\u001b[43m]\u001b[49m\u001b[38;5;241m=\u001b[39m\u001b[38;5;124m\"\u001b[39m\u001b[38;5;124mi\u001b[39m\u001b[38;5;124m\"\u001b[39m\n",
      "\u001b[0;31mTypeError\u001b[0m: 'str' object does not support item assignment"
     ]
    }
   ],
   "source": [
    "li[1]=\"i\""
   ]
  },
  {
   "cell_type": "code",
   "execution_count": null,
   "id": "9dbccae8-1b5f-46d4-baa1-e6e1252272cc",
   "metadata": {},
   "outputs": [],
   "source": []
  },
  {
   "cell_type": "markdown",
   "id": "1b208311-763c-4206-810d-9e806884d91e",
   "metadata": {},
   "source": [
    "# Question 4 Discuss the types of different operators in python and provide examples of how they are used?"
   ]
  },
  {
   "cell_type": "code",
   "execution_count": null,
   "id": "885bb463-7e74-4752-b4a8-bdf5c38ee9d9",
   "metadata": {},
   "outputs": [],
   "source": [
    "# opretorts>> special keywords to perform operators>><< manage compution \n",
    "#  1.Arithmatic Operators:- \n",
    "#  Example:- +, -, *, /, %, **."
   ]
  },
  {
   "cell_type": "code",
   "execution_count": 80,
   "id": "da95f538-e560-40eb-868d-498cebe41245",
   "metadata": {},
   "outputs": [
    {
     "data": {
      "text/plain": [
       "5"
      ]
     },
     "execution_count": 80,
     "metadata": {},
     "output_type": "execute_result"
    }
   ],
   "source": [
    "a=2\n",
    "b=3\n",
    "a+b #(+, -, *, /, %, **.) "
   ]
  },
  {
   "cell_type": "code",
   "execution_count": null,
   "id": "4b578292-34ee-452a-a1f6-26af1bd4b987",
   "metadata": {},
   "outputs": [],
   "source": [
    "# 2. Comparison Operators:\n",
    "# Example:- <, >, >=, <=, ==, !=."
   ]
  },
  {
   "cell_type": "code",
   "execution_count": 97,
   "id": "88a74e00-afb7-490f-bd1d-278135956a1c",
   "metadata": {},
   "outputs": [
    {
     "data": {
      "text/plain": [
       "False"
      ]
     },
     "execution_count": 97,
     "metadata": {},
     "output_type": "execute_result"
    }
   ],
   "source": [
    "a=55\n",
    "b=65\n",
    "a>b"
   ]
  },
  {
   "cell_type": "code",
   "execution_count": null,
   "id": "c7ee460e-c4c8-4f15-8595-b57538cddde6",
   "metadata": {},
   "outputs": [],
   "source": [
    "# 3. Logical Operators:\n",
    "# Example:\n",
    "# Logical and\n",
    "# Logical or\n",
    "# Logical not"
   ]
  },
  {
   "cell_type": "code",
   "execution_count": 94,
   "id": "2e4729d3-a136-4edb-866a-402ccbcaaaa6",
   "metadata": {},
   "outputs": [
    {
     "data": {
      "text/plain": [
       "True"
      ]
     },
     "execution_count": 94,
     "metadata": {},
     "output_type": "execute_result"
    }
   ],
   "source": [
    "a=15 \n",
    "b=20\n",
    "(a>10)and(b<30)"
   ]
  },
  {
   "cell_type": "code",
   "execution_count": 95,
   "id": "d855037f-0001-447e-94b3-6c6b5ad834cd",
   "metadata": {},
   "outputs": [
    {
     "data": {
      "text/plain": [
       "False"
      ]
     },
     "execution_count": 95,
     "metadata": {},
     "output_type": "execute_result"
    }
   ],
   "source": [
    "a=50\n",
    "b=60\n",
    "(a>100)or(b<10)"
   ]
  },
  {
   "cell_type": "code",
   "execution_count": null,
   "id": "8aaef465-7e40-4f9d-846d-e8b9e4440bfb",
   "metadata": {},
   "outputs": [],
   "source": [
    "# 4. Bitwise Operators:\n",
    "# Example:\n",
    "# Bitwise AND(&)\n",
    "# Bitwise OR(|)\n",
    "# Bitwise XOR(^)\n",
    "# Bitwise left shift(<<)\n",
    "# Bitwise right shift(>>"
   ]
  },
  {
   "cell_type": "code",
   "execution_count": 106,
   "id": "6e6d1906-e9ce-4be6-ae97-3b4cfb2f1815",
   "metadata": {},
   "outputs": [],
   "source": [
    "a=12\n",
    "b=5"
   ]
  },
  {
   "cell_type": "code",
   "execution_count": 107,
   "id": "ac937323-c840-4bf7-84b6-51d3ad8ad73d",
   "metadata": {},
   "outputs": [
    {
     "data": {
      "text/plain": [
       "4"
      ]
     },
     "execution_count": 107,
     "metadata": {},
     "output_type": "execute_result"
    }
   ],
   "source": [
    "a&b"
   ]
  },
  {
   "cell_type": "code",
   "execution_count": 108,
   "id": "1379b053-e4a0-4996-af12-4704c3b85f4d",
   "metadata": {},
   "outputs": [
    {
     "data": {
      "text/plain": [
       "13"
      ]
     },
     "execution_count": 108,
     "metadata": {},
     "output_type": "execute_result"
    }
   ],
   "source": [
    "a|b"
   ]
  },
  {
   "cell_type": "code",
   "execution_count": 109,
   "id": "78fad036-f2cf-4ea7-b05f-61a9a82eaf2b",
   "metadata": {},
   "outputs": [
    {
     "data": {
      "text/plain": [
       "9"
      ]
     },
     "execution_count": 109,
     "metadata": {},
     "output_type": "execute_result"
    }
   ],
   "source": [
    "a^b"
   ]
  },
  {
   "cell_type": "code",
   "execution_count": 110,
   "id": "ecebff0e-1ee0-4f57-96c1-b16700fda0f1",
   "metadata": {},
   "outputs": [
    {
     "data": {
      "text/plain": [
       "48"
      ]
     },
     "execution_count": 110,
     "metadata": {},
     "output_type": "execute_result"
    }
   ],
   "source": [
    "a<<2"
   ]
  },
  {
   "cell_type": "code",
   "execution_count": 111,
   "id": "050aa323-6b2c-4c01-8328-59b977d06405",
   "metadata": {},
   "outputs": [
    {
     "data": {
      "text/plain": [
       "3"
      ]
     },
     "execution_count": 111,
     "metadata": {},
     "output_type": "execute_result"
    }
   ],
   "source": [
    "a>>2"
   ]
  },
  {
   "cell_type": "code",
   "execution_count": null,
   "id": "3dc1979d-280f-4c1a-bea7-a9d7d3060505",
   "metadata": {},
   "outputs": [],
   "source": []
  },
  {
   "cell_type": "markdown",
   "id": "ace5e112-328e-4631-b187-17d6ce985d32",
   "metadata": {},
   "source": [
    " # Question5 Explain typecasting in python with example?"
   ]
  },
  {
   "cell_type": "markdown",
   "id": "5d661775-5d45-4fe0-acfd-b15d2c1c3e90",
   "metadata": {},
   "source": [
    "Answer. Type casting is the method to convert the python variable datatype into a certain data type."
   ]
  },
  {
   "cell_type": "markdown",
   "id": "0f71d2e2-f477-49bb-927e-d0b9577f28f1",
   "metadata": {},
   "source": [
    "# change string into integer"
   ]
  },
  {
   "cell_type": "code",
   "execution_count": 49,
   "id": "3b39f2c7-e49b-4f10-844f-36c746e7e2d4",
   "metadata": {},
   "outputs": [
    {
     "data": {
      "text/plain": [
       "123"
      ]
     },
     "execution_count": 49,
     "metadata": {},
     "output_type": "execute_result"
    }
   ],
   "source": [
    "st= \"123\"\n",
    "result=int(st)\n",
    "result"
   ]
  },
  {
   "cell_type": "code",
   "execution_count": 50,
   "id": "ed686510-ccaf-4605-afdc-24b5a79a6b20",
   "metadata": {},
   "outputs": [
    {
     "data": {
      "text/plain": [
       "int"
      ]
     },
     "execution_count": 50,
     "metadata": {},
     "output_type": "execute_result"
    }
   ],
   "source": [
    "type(result)"
   ]
  },
  {
   "cell_type": "code",
   "execution_count": null,
   "id": "396458c7-7735-4d15-8cb9-9424e4f58ceb",
   "metadata": {},
   "outputs": [],
   "source": []
  },
  {
   "cell_type": "markdown",
   "id": "9b0800ba-d467-46f3-803b-9f74cb1cdbb9",
   "metadata": {},
   "source": [
    "# change float into integer"
   ]
  },
  {
   "cell_type": "code",
   "execution_count": 61,
   "id": "06ec4d74-dbdb-4441-8956-f2d87baf7b1f",
   "metadata": {},
   "outputs": [
    {
     "data": {
      "text/plain": [
       "12"
      ]
     },
     "execution_count": 61,
     "metadata": {},
     "output_type": "execute_result"
    }
   ],
   "source": [
    "floa_t= 12.3\n",
    "result=int(floa_t)\n",
    "result"
   ]
  },
  {
   "cell_type": "code",
   "execution_count": 62,
   "id": "92c16f26-ab52-4339-bae1-8f221be52820",
   "metadata": {},
   "outputs": [
    {
     "data": {
      "text/plain": [
       "int"
      ]
     },
     "execution_count": 62,
     "metadata": {},
     "output_type": "execute_result"
    }
   ],
   "source": [
    "type(result)"
   ]
  },
  {
   "cell_type": "code",
   "execution_count": null,
   "id": "4b2f5a7d-764b-4cda-82cc-3035ae93f734",
   "metadata": {},
   "outputs": [],
   "source": []
  },
  {
   "cell_type": "markdown",
   "id": "f7e052fc-e2c4-4e48-9b13-c034776e0243",
   "metadata": {},
   "source": [
    "# change integer into float"
   ]
  },
  {
   "cell_type": "code",
   "execution_count": 51,
   "id": "bd7e91d8-3e91-447a-b6d1-9b70c474b629",
   "metadata": {},
   "outputs": [
    {
     "data": {
      "text/plain": [
       "123.0"
      ]
     },
     "execution_count": 51,
     "metadata": {},
     "output_type": "execute_result"
    }
   ],
   "source": [
    "inte= 123\n",
    "result=float(inte)\n",
    "result"
   ]
  },
  {
   "cell_type": "code",
   "execution_count": 52,
   "id": "28ce3104-a7f0-45f8-9850-ec5544085666",
   "metadata": {},
   "outputs": [
    {
     "data": {
      "text/plain": [
       "float"
      ]
     },
     "execution_count": 52,
     "metadata": {},
     "output_type": "execute_result"
    }
   ],
   "source": [
    "type(result)"
   ]
  },
  {
   "cell_type": "code",
   "execution_count": null,
   "id": "1b9d9c4d-b90d-4c6e-b7f0-7071a5941b57",
   "metadata": {},
   "outputs": [],
   "source": []
  },
  {
   "cell_type": "markdown",
   "id": "6aa55fda-8480-47a7-be0d-308590e95ff3",
   "metadata": {},
   "source": [
    "# tuple into list"
   ]
  },
  {
   "cell_type": "code",
   "execution_count": 54,
   "id": "7a73134f-5f4f-43fc-948a-3dd0a40279f5",
   "metadata": {},
   "outputs": [
    {
     "data": {
      "text/plain": [
       "[1, 2, 3, 4]"
      ]
     },
     "execution_count": 54,
     "metadata": {},
     "output_type": "execute_result"
    }
   ],
   "source": [
    "tup=( 1,2,3,4)\n",
    "result=list(tup)\n",
    "result"
   ]
  },
  {
   "cell_type": "code",
   "execution_count": 55,
   "id": "138cfc05-209f-4e17-9516-9e2a9a4663e9",
   "metadata": {},
   "outputs": [
    {
     "data": {
      "text/plain": [
       "list"
      ]
     },
     "execution_count": 55,
     "metadata": {},
     "output_type": "execute_result"
    }
   ],
   "source": [
    "type(result)"
   ]
  },
  {
   "cell_type": "code",
   "execution_count": null,
   "id": "4fe9abce-a9cd-4739-a143-34cba6cd6259",
   "metadata": {},
   "outputs": [],
   "source": []
  },
  {
   "cell_type": "markdown",
   "id": "381f1f5b-3f3b-44b2-b805-bca924546298",
   "metadata": {},
   "source": [
    "# list into tuple"
   ]
  },
  {
   "cell_type": "code",
   "execution_count": 57,
   "id": "c27b00f3-b107-47b8-81c6-62499f0a9c5d",
   "metadata": {},
   "outputs": [
    {
     "data": {
      "text/plain": [
       "(1, 2, 3, 4)"
      ]
     },
     "execution_count": 57,
     "metadata": {},
     "output_type": "execute_result"
    }
   ],
   "source": [
    "li=( 1,2,3,4)\n",
    "result=tuple(li)\n",
    "result"
   ]
  },
  {
   "cell_type": "code",
   "execution_count": 58,
   "id": "ff9e61ab-1760-4375-ac8d-e33e034d5615",
   "metadata": {},
   "outputs": [
    {
     "data": {
      "text/plain": [
       "tuple"
      ]
     },
     "execution_count": 58,
     "metadata": {},
     "output_type": "execute_result"
    }
   ],
   "source": [
    "type(result)"
   ]
  },
  {
   "cell_type": "code",
   "execution_count": null,
   "id": "a3d90098-f939-4920-868e-0caf2dd58852",
   "metadata": {},
   "outputs": [],
   "source": []
  },
  {
   "cell_type": "code",
   "execution_count": null,
   "id": "fcf84c22-ee18-4ecf-9061-563fadacb888",
   "metadata": {},
   "outputs": [],
   "source": []
  },
  {
   "cell_type": "code",
   "execution_count": null,
   "id": "3ab0cc3f-8279-4941-a1c8-0e253bafb440",
   "metadata": {},
   "outputs": [],
   "source": []
  },
  {
   "cell_type": "markdown",
   "id": "da3aba03-131b-4de6-b637-6e4d34957fa1",
   "metadata": {},
   "source": [
    " # Question6 How conditional statement work in python? illustrate with example."
   ]
  },
  {
   "cell_type": "markdown",
   "id": "79ddc3b9-6340-483b-aeff-60538722cf11",
   "metadata": {},
   "source": [
    "\n",
    " Ans. If the condition is true, the if block code is executed and if the condition is false, the else block code is executed.\n",
    "  Types of conditional statement:\n",
    " 1. if statement\n",
    " 2. if-else startElement\n",
    " 3. if-elif else startElement\n",
    " 4. nested if-else statement\n",
    " # Example of if statement"
   ]
  },
  {
   "cell_type": "code",
   "execution_count": 63,
   "id": "2c0fc6e2-5933-49e9-b1a1-1faad182e31f",
   "metadata": {},
   "outputs": [
    {
     "name": "stdout",
     "output_type": "stream",
     "text": [
      "the number is grather then 0 .\n"
     ]
    }
   ],
   "source": [
    "a=100\n",
    "if a > 0:# executethe if block , if the condition is true.\n",
    "    print(\"the number is grather then 0 .\")"
   ]
  },
  {
   "cell_type": "markdown",
   "id": "04a4e2b6-1226-44ed-b8a7-86298659b7ef",
   "metadata": {},
   "source": [
    " # 2. if-else startElement"
   ]
  },
  {
   "cell_type": "code",
   "execution_count": 70,
   "id": "7c1c752f-e8c1-4a6a-b02b-50f2983d9e54",
   "metadata": {},
   "outputs": [
    {
     "name": "stdin",
     "output_type": "stream",
     "text": [
      "enter weather sunny\n"
     ]
    },
    {
     "name": "stdout",
     "output_type": "stream",
     "text": [
      "i will play cricket\n"
     ]
    }
   ],
   "source": [
    "#if else>> exicute the if block when its true elseexecyte else block\n",
    "weather =(input(\"enter weather\"))\n",
    "if weather == \"sunny\":#if condition is trueexecute if block\n",
    "    print(\"i will play cricket\")\n",
    "else:\n",
    "    print(\"i will watch tv\")# if condition was false thenitexicute else"
   ]
  },
  {
   "cell_type": "markdown",
   "id": "1c2e33b0-27ff-41c1-b07d-30076a7a9334",
   "metadata": {},
   "source": [
    " # 3. if-elif else startElement\n"
   ]
  },
  {
   "cell_type": "code",
   "execution_count": 68,
   "id": "20956ef2-70c1-4ac2-897e-a5ad833b1db5",
   "metadata": {},
   "outputs": [
    {
     "name": "stdin",
     "output_type": "stream",
     "text": [
      "enter a number 1\n"
     ]
    },
    {
     "name": "stdout",
     "output_type": "stream",
     "text": [
      "you are minority\n"
     ]
    }
   ],
   "source": [
    "age =int(input(\"enter a number\"))\n",
    "if age < 18:\n",
    "    print(\"you are minority\")\n",
    "elif 18<age<=65:\n",
    "    print(\"you are adult\")\n",
    "else:\n",
    "    print(\"you are senior citizen\")"
   ]
  },
  {
   "cell_type": "markdown",
   "id": "5ed8b240-fc83-4090-9096-6f61f06a2feb",
   "metadata": {},
   "source": [
    "# 4. nested if-else statement"
   ]
  },
  {
   "cell_type": "code",
   "execution_count": 71,
   "id": "c75e00cf-33a6-4a70-82cc-c590c956380d",
   "metadata": {},
   "outputs": [
    {
     "name": "stdin",
     "output_type": "stream",
     "text": [
      "plese enter your name RITIK KUMAR\n",
      "please enter your email @\n",
      "please enter your password r\n"
     ]
    }
   ],
   "source": [
    "name = input(\"plese enter your name\")\n",
    "email = input(\"please enter your email\")\n",
    "password =input(\"please enter your password\")\n",
    "\n",
    "if name ==\"\":\n",
    "    print(\"please enter vaild name cannot be empty\")\n",
    "else:\n",
    "    if \"@\" not  in email:\n",
    "        print(\"plese enter a valid email\")\n",
    "    else:\n",
    "        if len(password) < 0 :\n",
    "            print(\"no password enterd,plz provide a vaild password\")\n",
    "        else:(\"login/registration is successfull\")"
   ]
  },
  {
   "cell_type": "code",
   "execution_count": null,
   "id": "f7a08163-5531-480e-ab5a-c4c21a88911f",
   "metadata": {},
   "outputs": [],
   "source": []
  },
  {
   "cell_type": "code",
   "execution_count": null,
   "id": "305713c6-7a0e-4149-a008-e7906ac931d4",
   "metadata": {},
   "outputs": [],
   "source": []
  },
  {
   "cell_type": "markdown",
   "id": "0033e57e-4445-484f-89f2-ec2552563cd4",
   "metadata": {},
   "source": [
    "# question7 describe the different type of loops in python and their use case with example?"
   ]
  },
  {
   "cell_type": "raw",
   "id": "c3d688b4-a1a5-4030-9118-175201909906",
   "metadata": {},
   "source": [
    "Answer:- Loop Statement:- LOOP statements execute a sequence of statements multiple times.\n",
    "  Types of loop statement:\n",
    " 1. For loop statement. >>for loop>> iterate over a sequence of elements>>strings , list\n",
    " 2. While loop statement >> repeatedly executed a block of code until a condition is met"
   ]
  },
  {
   "cell_type": "code",
   "execution_count": 73,
   "id": "94ae2d6f-a11d-4ace-a5ed-9e9bc666c65b",
   "metadata": {},
   "outputs": [
    {
     "name": "stdout",
     "output_type": "stream",
     "text": [
      "s\n",
      "k\n",
      "i\n",
      "l\n",
      "l\n",
      "s\n"
     ]
    }
   ],
   "source": [
    "#for loop>> iterate over a sequence of elements>>strings , list\n",
    "for i in \"Skills\":\n",
    "    print(i)"
   ]
  },
  {
   "cell_type": "code",
   "execution_count": 74,
   "id": "db1a1357-884d-4f83-b7c1-f69c0ecd1cc0",
   "metadata": {},
   "outputs": [
    {
     "name": "stdout",
     "output_type": "stream",
     "text": [
      "1\n",
      "2\n",
      "3\n",
      "4\n",
      "5\n",
      "6\n"
     ]
    }
   ],
   "source": [
    "#While loop statement >> repeatedly executed a block of code until a condition is met\n",
    "n=7\n",
    "i=1\n",
    "while i < n:\n",
    "    print(i)\n",
    "    i=i+1      #itreation mean how many times  loop will exicuted\n",
    " #i<n\n",
    "#1<7 true-1 i=1+1   , i=2\n",
    "#2<7 true-2 i=2+1   , i=3\n",
    "#3<7 true-3 i=3+1   , i=4\n",
    "#4<7 true-4 i=4+1   , i=5\n",
    "#5<7 true-5 i=5+1   , i=6\n",
    "#6<7 true-6 i=6+1   , i=7 condition  willbreak"
   ]
  },
  {
   "cell_type": "raw",
   "id": "be1a1f2e-6091-42d2-8513-78e364a62200",
   "metadata": {},
   "source": [
    "Break and Continue Statement:- Break statement stops the entire \n",
    "process of the loop and Continue statement only stops the current \n",
    "iteration of the loop."
   ]
  },
  {
   "cell_type": "code",
   "execution_count": 75,
   "id": "ae970215-7b56-451b-aed9-be9cf75ec1b8",
   "metadata": {},
   "outputs": [
    {
     "name": "stdout",
     "output_type": "stream",
     "text": [
      "1\n",
      "2\n"
     ]
    }
   ],
   "source": [
    "#break terminates/exits the loop\n",
    "# the condition is met it will breakloop\n",
    "n=7\n",
    "i=1\n",
    "while i < n:\n",
    "    print(i)\n",
    "    i=i+1  \n",
    "    if i ==3:\n",
    "        break # come out of loop\n",
    "else:# run successfully when codition was run without break\n",
    "    print (\"this will be executed when the while is run successfuly without any break\")"
   ]
  },
  {
   "cell_type": "code",
   "execution_count": 76,
   "id": "705b3c28-8a5c-450b-9d41-9cf44bf36237",
   "metadata": {},
   "outputs": [
    {
     "name": "stdout",
     "output_type": "stream",
     "text": [
      "2\n",
      "4\n",
      "5\n",
      "6\n",
      "7\n",
      "this will be executed when the while is run successfuly without any break\n"
     ]
    }
   ],
   "source": [
    "#continue>> skips the iteration\n",
    "n=7\n",
    "i=1\n",
    "while i < n:\n",
    " \n",
    "    i=i+1  \n",
    "    if i ==3:\n",
    "        continue #\n",
    "    print(i)\n",
    "else:# run successfully when codition was run without break\n",
    "    print (\"this will be executed when the while is run successfuly without any break\")"
   ]
  },
  {
   "cell_type": "code",
   "execution_count": null,
   "id": "da558905-1fa9-46cb-9d10-64a5abe39b40",
   "metadata": {},
   "outputs": [],
   "source": []
  }
 ],
 "metadata": {
  "kernelspec": {
   "display_name": "Python 3 (ipykernel)",
   "language": "python",
   "name": "python3"
  },
  "language_info": {
   "codemirror_mode": {
    "name": "ipython",
    "version": 3
   },
   "file_extension": ".py",
   "mimetype": "text/x-python",
   "name": "python",
   "nbconvert_exporter": "python",
   "pygments_lexer": "ipython3",
   "version": "3.10.8"
  }
 },
 "nbformat": 4,
 "nbformat_minor": 5
}
